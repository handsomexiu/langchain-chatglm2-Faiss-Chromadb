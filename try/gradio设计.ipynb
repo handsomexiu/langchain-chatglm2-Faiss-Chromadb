{
 "cells": [
  {
   "cell_type": "code",
   "execution_count": 1,
   "metadata": {},
   "outputs": [
    {
     "name": "stderr",
     "output_type": "stream",
     "text": [
      "d:\\software\\anaconda\\anaconda3\\envs\\langchain\\lib\\site-packages\\tqdm\\auto.py:21: TqdmWarning: IProgress not found. Please update jupyter and ipywidgets. See https://ipywidgets.readthedocs.io/en/stable/user_install.html\n",
      "  from .autonotebook import tqdm as notebook_tqdm\n"
     ]
    }
   ],
   "source": [
    "import gradio as gr\n",
    "import os\n",
    "import time"
   ]
  },
  {
   "cell_type": "code",
   "execution_count": 2,
   "metadata": {},
   "outputs": [],
   "source": [
    "def reinit_model(large_language_model, embedding_model, history):\n",
    "    try:\n",
    "        knowladge_based_chat_llm.init_model_config(\n",
    "            large_language_model=large_language_model,\n",
    "            embedding_model=embedding_model)\n",
    "        model_status = \"\"\"模型已成功重新加载，可以开始对话\"\"\"\n",
    "    except Exception as e:\n",
    "\n",
    "        model_status = \"\"\"模型未成功重新加载，请点击重新加载模型\"\"\"\n",
    "    return history + [[None, model_status]]"
   ]
  },
  {
   "cell_type": "code",
   "execution_count": 3,
   "metadata": {},
   "outputs": [],
   "source": [
    "def clear_session():\n",
    "    return '', None"
   ]
  },
  {
   "cell_type": "code",
   "execution_count": 4,
   "metadata": {},
   "outputs": [],
   "source": [
    "def init_vector_store(file_obj):\n",
    "\n",
    "    vector_store = knowladge_based_chat_llm.init_knowledge_vector_store(\n",
    "        file_obj.name)\n",
    "\n",
    "    return vector_store"
   ]
  },
  {
   "cell_type": "code",
   "execution_count": 5,
   "metadata": {},
   "outputs": [],
   "source": [
    "def predict(input,\n",
    "            use_web,\n",
    "            top_k,\n",
    "            history_len,\n",
    "            temperature,\n",
    "            top_p,\n",
    "            history=None):\n",
    "    if history == None:\n",
    "        history = []\n",
    "\n",
    "    resp = knowladge_based_chat_llm.get_knowledge_based_answer(\n",
    "        query=input,\n",
    "        web_content=web_content,\n",
    "        top_k=top_k,\n",
    "        history_len=history_len,\n",
    "        temperature=temperature,\n",
    "        top_p=top_p,\n",
    "        history=history)\n",
    "    history.append((input, resp['result']))\n",
    "    return '', history, history"
   ]
  },
  {
   "cell_type": "code",
   "execution_count": 6,
   "metadata": {},
   "outputs": [
    {
     "name": "stdout",
     "output_type": "stream",
     "text": [
      "Running on local URL:  http://127.0.0.1:7860\n",
      "\n",
      "To create a public link, set `share=True` in `launch()`.\n"
     ]
    },
    {
     "data": {
      "text/html": [
       "<div><iframe src=\"http://127.0.0.1:7860/\" width=\"100%\" height=\"500\" allow=\"autoplay; camera; microphone; clipboard-read; clipboard-write;\" frameborder=\"0\" allowfullscreen></iframe></div>"
      ],
      "text/plain": [
       "<IPython.core.display.HTML object>"
      ]
     },
     "metadata": {},
     "output_type": "display_data"
    }
   ],
   "source": [
    "block = gr.Blocks()\n",
    "with block as demo:\n",
    "\n",
    "    model_status = gr.State(\"欢迎使用CASGPT\")#每次重启都会导致State的变量消失\n",
    "    with gr.Row():\n",
    "        with gr.Column(scale=1):\n",
    "            # 这里不需要模型选择。只使用chatglm2-6b\n",
    "            model_argument = gr.Accordion(\"模型参数配置\")\n",
    "            with model_argument:\n",
    "                top_k = gr.Slider(1,\n",
    "                                    10,\n",
    "                                    value=6,\n",
    "                                    step=1,\n",
    "                                    label=\"vector search top k\",\n",
    "                                    interactive=True)\n",
    "\n",
    "                history_len = gr.Slider(0,\n",
    "                                        5,\n",
    "                                        value=3,\n",
    "                                        step=1,\n",
    "                                        label=\"history len\",\n",
    "                                        interactive=True)\n",
    "\n",
    "                temperature = gr.Slider(0,\n",
    "                                        1,\n",
    "                                        value=0.01,\n",
    "                                        step=0.01,\n",
    "                                        label=\"temperature\",\n",
    "                                        interactive=True)\n",
    "                top_p = gr.Slider(0,\n",
    "                                    1,\n",
    "                                    value=0.9,\n",
    "                                    step=0.1,\n",
    "                                    label=\"top_p\",\n",
    "                                    interactive=True)\n",
    "\n",
    "            file = gr.File(label='请上传知识库文件',\n",
    "                            file_types=['.txt', '.md', '.docx', '.pdf'],\n",
    "                            height=170)\n",
    "\n",
    "            init_vs = gr.Button(\"知识库文件向量化\")\n",
    "\n",
    "        with gr.Column(scale=4):\n",
    "            chatbot = gr.Chatbot([[None, model_status.value]],\n",
    "                                    label='ChatLLM')\n",
    "            message = gr.Textbox(label='请输入问题')\n",
    "            state = gr.State()\n",
    "\n",
    "            with gr.Row():\n",
    "                clear_history = gr.Button(\"🧹 清除历史对话\")\n",
    "                send = gr.Button(\"🚀 发送\")\n",
    "\n",
    "        init_vs.click(#点击一下init_vs就会触发init_vector_store函数\n",
    "            init_vector_store,\n",
    "            show_progress=True,\n",
    "            inputs=[file],\n",
    "            outputs=[],\n",
    "        )\n",
    "\n",
    "        send.click(predict,#这个是点击\n",
    "                    inputs=[\n",
    "                        message,  top_k, history_len, temperature,\n",
    "                        top_p, state\n",
    "                    ],\n",
    "                    outputs=[message, chatbot, state])\n",
    "        clear_history.click(fn=clear_session,\n",
    "                            inputs=[],\n",
    "                            outputs=[chatbot, state],\n",
    "                            queue=False)\n",
    "\n",
    "        message.submit(predict,#这个是触发回车事件\n",
    "                        inputs=[\n",
    "                            message, top_k, history_len,\n",
    "                            temperature, top_p, state\n",
    "                        ],\n",
    "                        outputs=[message, chatbot, state])\n",
    "    #这5个模块：load_model_button,init_vs,send,clear_history,message.submit都是触发事件的，这些事件都是在点击或者回车时触发的\n",
    "    demo.launch()"
   ]
  },
  {
   "cell_type": "code",
   "execution_count": null,
   "metadata": {},
   "outputs": [],
   "source": []
  }
 ],
 "metadata": {
  "kernelspec": {
   "display_name": "langchain",
   "language": "python",
   "name": "python3"
  },
  "language_info": {
   "codemirror_mode": {
    "name": "ipython",
    "version": 3
   },
   "file_extension": ".py",
   "mimetype": "text/x-python",
   "name": "python",
   "nbconvert_exporter": "python",
   "pygments_lexer": "ipython3",
   "version": "3.9.18"
  }
 },
 "nbformat": 4,
 "nbformat_minor": 2
}
